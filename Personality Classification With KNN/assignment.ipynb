{
 "cells": [
  {
   "cell_type": "code",
   "execution_count": 1,
   "metadata": {},
   "outputs": [],
   "source": [
    "# Import necessary libraries\n",
    "import pandas as pd\n",
    "import numpy as np\n",
    "import math\n",
    "import random\n"
   ]
  },
  {
   "cell_type": "code",
   "execution_count": 2,
   "metadata": {},
   "outputs": [],
   "source": [
    "df = pd.read_csv(\"16P.csv\", encoding = \"cp1252\")"
   ]
  },
  {
   "cell_type": "code",
   "execution_count": 3,
   "metadata": {},
   "outputs": [],
   "source": [
    "df = df.drop(columns=\"Response Id\")"
   ]
  },
  {
   "cell_type": "code",
   "execution_count": 4,
   "metadata": {},
   "outputs": [],
   "source": [
    "mapping = {\n",
    "    'ESTJ': 0,\n",
    "    'ENTJ': 1,\n",
    "    'ESFJ': 2,\n",
    "    'ENFJ': 3,\n",
    "    'ISTJ': 4,\n",
    "    'ISFJ': 5,\n",
    "    'INTJ': 6,\n",
    "    'INFJ': 7,\n",
    "    'ESTP': 8,\n",
    "    'ESFP': 9,\n",
    "    'ENTP': 10,\n",
    "    'ENFP': 11,\n",
    "    'ISTP': 12,\n",
    "    'ISFP': 13,\n",
    "    'INTP': 14,\n",
    "    'INFP': 15\n",
    "}\n",
    "\n",
    "df['Personality'] = df['Personality'].map(mapping)\n"
   ]
  },
  {
   "cell_type": "code",
   "execution_count": 5,
   "metadata": {},
   "outputs": [],
   "source": [
    "# feature normalization\n",
    "a = df[\"Personality\"]\n",
    "df1 = df.drop(columns=\"Personality\")\n",
    "new_data = df.to_numpy()\n",
    "new_data = (new_data - new_data.min(axis=0)) / (new_data.max(axis=0) - new_data.min(axis=0))"
   ]
  },
  {
   "cell_type": "code",
   "execution_count": 6,
   "metadata": {},
   "outputs": [
    {
     "name": "stdout",
     "output_type": "stream",
     "text": [
      "(59999, 61)\n"
     ]
    }
   ],
   "source": [
    "data = df.to_numpy()\n",
    "print(data.shape)"
   ]
  },
  {
   "cell_type": "code",
   "execution_count": 7,
   "metadata": {},
   "outputs": [],
   "source": [
    "# Find the k nearest neighbors of a sample\n",
    "def find_neighbors(X, y, sample, k):\n",
    "    # calculate distance between sample and all samples in X\n",
    "    distances = np.sqrt(np.sum((X - sample)**2, axis=1))\n",
    "    # get the indices of the k smallest distances\n",
    "    k_indices = np.argpartition(distances, k)[:k]\n",
    "    # return the distances and corresponding labels for the k nearest neighbors\n",
    "    return list(zip(distances[k_indices], y[k_indices]))\n",
    "\n",
    "\n",
    "\n",
    "# Predict the class of a sample based on the classes of its k nearest neighbors\n",
    "def predict(neighbors):\n",
    "    class_counts = {}\n",
    "    for _, class_ in neighbors:\n",
    "        if class_ in class_counts:\n",
    "            class_counts[class_] += 1\n",
    "        else:\n",
    "            class_counts[class_] = 1\n",
    "    sorted_counts = sorted(class_counts.items(), key=lambda x: x[1], reverse=True)\n",
    "    return sorted_counts[0][0]\n",
    "\n",
    "    "
   ]
  },
  {
   "cell_type": "code",
   "execution_count": 8,
   "metadata": {},
   "outputs": [],
   "source": [
    "X = data[:, :-1]\n",
    "y = data[:, -1]"
   ]
  },
  {
   "cell_type": "code",
   "execution_count": 9,
   "metadata": {},
   "outputs": [],
   "source": [
    "def recall(y_test, predictions):\n",
    "    true_positives = 0\n",
    "    false_negatives = 0\n",
    "    for i in range(len(y_test)):\n",
    "        if y_test[i] == predictions[i]:\n",
    "            true_positives += 1\n",
    "        elif predictions[i] == 1:\n",
    "            false_negatives += 1\n",
    "    recall = true_positives / (true_positives + false_negatives)\n",
    "    return recall\n",
    "    "
   ]
  },
  {
   "cell_type": "code",
   "execution_count": 10,
   "metadata": {},
   "outputs": [],
   "source": [
    "def precision(y_test, predictions):\n",
    "    true_positives = 0\n",
    "    false_positives = 0\n",
    "    for i in range(len(y_test)):\n",
    "        if y_test[i] == predictions[i]:\n",
    "            true_positives += 1\n",
    "        elif predictions[i] == 0:\n",
    "            false_positives += 1\n",
    "    precision = true_positives / (true_positives + false_positives)\n",
    "    return precision\n"
   ]
  },
  {
   "cell_type": "code",
   "execution_count": 242,
   "metadata": {},
   "outputs": [
    {
     "name": "stdout",
     "output_type": "stream",
     "text": [
      "k = 1: accuracy = 0.985898824902075, recall = 0.9993733680655421, precision = 0.9993908737989037\n",
      "k = 1: accuracy = 0.985898824902075, recall = 0.9993733680655421, precision = 0.9993908737989037\n",
      "k = 3: accuracy = 0.9865988832402699, recall = 0.9985811484927989, precision = 0.9994585976120394\n",
      "k = 1: accuracy = 0.985898824902075, recall = 0.9993733680655421, precision = 0.9993908737989037\n",
      "k = 3: accuracy = 0.9865988832402699, recall = 0.9985811484927989, precision = 0.9994585976120394\n",
      "k = 5: accuracy = 0.98698224852071, recall = 0.9988016913386456, precision = 0.9990028907004689\n",
      "k = 1: accuracy = 0.985898824902075, recall = 0.9993733680655421, precision = 0.9993908737989037\n",
      "k = 3: accuracy = 0.9865988832402699, recall = 0.9985811484927989, precision = 0.9994585976120394\n",
      "k = 5: accuracy = 0.98698224852071, recall = 0.9988016913386456, precision = 0.9990028907004689\n",
      "k = 7: accuracy = 0.988065672139345, recall = 0.9988189857047877, precision = 0.9991220922443107\n",
      "k = 1: accuracy = 0.985898824902075, recall = 0.9993733680655421, precision = 0.9993908737989037\n",
      "k = 3: accuracy = 0.9865988832402699, recall = 0.9985811484927989, precision = 0.9994585976120394\n",
      "k = 5: accuracy = 0.98698224852071, recall = 0.9988016913386456, precision = 0.9990028907004689\n",
      "k = 7: accuracy = 0.988065672139345, recall = 0.9988189857047877, precision = 0.9991220922443107\n",
      "k = 9: accuracy = 0.9869155762980248, recall = 0.9990535600202058, precision = 0.9990202355518341\n"
     ]
    }
   ],
   "source": [
    "k = [1,3,5,7,9]\n",
    "\n",
    "accuracies = []\n",
    "recalls = []\n",
    "precisions = []\n",
    "\n",
    "num_samples = len(df)\n",
    "num_folds = 5\n",
    "num_samples_per_fold = num_samples // num_folds\n",
    "\n",
    "\n",
    "for i in range(5):\n",
    "    test_indices = random.sample(range(num_samples), num_samples_per_fold)\n",
    "    X_test = X[test_indices]\n",
    "    y_test = y[test_indices]\n",
    "    train_indices = [i for i in range(num_samples) if i not in test_indices]\n",
    "    X_train = X[train_indices]\n",
    "    y_train = y[train_indices]\n",
    "\n",
    "\n",
    "    # Perform predictions for each k value\n",
    "    for j in k:\n",
    "        predictions = []\n",
    "        for sample in X_test:\n",
    "            if sample.ndim == 1:\n",
    "                sample = sample.reshape(1,-1)\n",
    "            neighbors = find_neighbors(X_train, y_train, sample, j)\n",
    "            predictions.append(predict(neighbors))\n",
    "        accuracy = sum((predictions) == (y_test)) / len(y_test)\n",
    "        r = recall(y_test, predictions)\n",
    "        p = precision(y_test, predictions)\n",
    "        accuracies.append(accuracy)\n",
    "        recalls.append(r)\n",
    "        precisions.append(p)\n",
    "\n",
    "    mean_accuracies = [np.mean(accuracies[i:i+num_folds]) for i in range(0, len(accuracies), num_folds)]\n",
    "    mean_recalls = [np.mean(recalls[i:i+num_folds]) for i in range(0, len(recalls), num_folds)]\n",
    "    mean_precisions = [np.mean(precisions[i:i+num_folds]) for i in range(0, len(precisions), num_folds)]\n",
    "    for j,i,a,l in zip(k,mean_accuracies,mean_recalls,mean_precisions):\n",
    "        print(f'k = {j}: accuracy = {i}, recall = {a}, precision = {l}')\n"
   ]
  },
  {
   "cell_type": "code",
   "execution_count": 11,
   "metadata": {},
   "outputs": [],
   "source": [
    "######################## wiht feature normalization ##############################\n",
    "Xf = new_data[:, :-1]\n",
    "yf = new_data[:, -1]"
   ]
  },
  {
   "cell_type": "code",
   "execution_count": 12,
   "metadata": {},
   "outputs": [
    {
     "name": "stdout",
     "output_type": "stream",
     "text": [
      "k = 1: accuracy = 0.9840986748895741, recall = 0.9986625738633389, precision = 0.9991183402664504\n",
      "k = 1: accuracy = 0.9840986748895741, recall = 0.9986625738633389, precision = 0.9991183402664504\n",
      "k = 3: accuracy = 0.9849820818401532, recall = 0.9990160643491055, precision = 0.999423290131984\n",
      "k = 1: accuracy = 0.9840986748895741, recall = 0.9986625738633389, precision = 0.9991183402664504\n",
      "k = 3: accuracy = 0.9849820818401532, recall = 0.9990160643491055, precision = 0.999423290131984\n",
      "k = 5: accuracy = 0.9860821735144596, recall = 0.9987477274610168, precision = 0.9992548811061072\n",
      "k = 1: accuracy = 0.9840986748895741, recall = 0.9986625738633389, precision = 0.9991183402664504\n",
      "k = 3: accuracy = 0.9849820818401532, recall = 0.9990160643491055, precision = 0.999423290131984\n",
      "k = 5: accuracy = 0.9860821735144596, recall = 0.9987477274610168, precision = 0.9992548811061072\n",
      "k = 7: accuracy = 0.9845153762813567, recall = 0.9988644266683375, precision = 0.9993396440411226\n",
      "k = 1: accuracy = 0.9840986748895741, recall = 0.9986625738633389, precision = 0.9991183402664504\n",
      "k = 3: accuracy = 0.9849820818401532, recall = 0.9990160643491055, precision = 0.999423290131984\n",
      "k = 5: accuracy = 0.9860821735144596, recall = 0.9987477274610168, precision = 0.9992548811061072\n",
      "k = 7: accuracy = 0.9845153762813567, recall = 0.9988644266683375, precision = 0.9993396440411226\n",
      "k = 9: accuracy = 0.9860155012917742, recall = 0.9984621795015842, precision = 0.9996440038855953\n"
     ]
    }
   ],
   "source": [
    "k = [1,3,5,7,9]\n",
    "\n",
    "accuracies = []\n",
    "recalls = []\n",
    "precisions = []\n",
    "\n",
    "num_samples = len(df)\n",
    "num_folds = 5\n",
    "num_samples_per_fold = num_samples // num_folds\n",
    "\n",
    "\n",
    "for i in range(5):\n",
    "    test_indices = random.sample(range(num_samples), num_samples_per_fold)\n",
    "    X_test = Xf[test_indices]\n",
    "    y_test = yf[test_indices]\n",
    "    train_indices = [i for i in range(num_samples) if i not in test_indices]\n",
    "    X_train = Xf[train_indices]\n",
    "    y_train = yf[train_indices]\n",
    "\n",
    "\n",
    "    # Perform predictions for each k value\n",
    "    for j in k:\n",
    "        predictions = []\n",
    "        for sample in X_test:\n",
    "            if sample.ndim == 1:\n",
    "                sample = sample.reshape(1,-1)\n",
    "            neighbors = find_neighbors(X_train, y_train, sample, j)\n",
    "            predictions.append(predict(neighbors))\n",
    "        accuracy = sum((predictions) == (y_test)) / len(y_test)\n",
    "        r = recall(y_test, predictions)\n",
    "        p = precision(y_test, predictions)\n",
    "        accuracies.append(accuracy)\n",
    "        recalls.append(r)\n",
    "        precisions.append(p)\n",
    "\n",
    "    mean_accuracies = [np.mean(accuracies[i:i+num_folds]) for i in range(0, len(accuracies), num_folds)]\n",
    "    mean_recalls = [np.mean(recalls[i:i+num_folds]) for i in range(0, len(recalls), num_folds)]\n",
    "    mean_precisions = [np.mean(precisions[i:i+num_folds]) for i in range(0, len(precisions), num_folds)]\n",
    "    for j,i,a,l in zip(k,mean_accuracies,mean_recalls,mean_precisions):\n",
    "        print(f'k = {j}: accuracy = {i}, recall = {a}, precision = {l}')\n"
   ]
  }
 ],
 "metadata": {
  "kernelspec": {
   "display_name": "base",
   "language": "python",
   "name": "python3"
  },
  "language_info": {
   "codemirror_mode": {
    "name": "ipython",
    "version": 3
   },
   "file_extension": ".py",
   "mimetype": "text/x-python",
   "name": "python",
   "nbconvert_exporter": "python",
   "pygments_lexer": "ipython3",
   "version": "3.9.13"
  },
  "orig_nbformat": 4,
  "vscode": {
   "interpreter": {
    "hash": "bc72bf893ae7aab27d65a91c1cb8a1cd3fb828e4c873910ed155b357dd27f1d1"
   }
  }
 },
 "nbformat": 4,
 "nbformat_minor": 2
}
